{
 "cells": [
  {
   "cell_type": "markdown",
   "id": "2b2216e4",
   "metadata": {},
   "source": [
    "1. In the below elements which of them are values or an expression? eg:- values can be integer or string and expressions will be mathematical operators.\n",
    "* \n",
    "'hello'\n",
    "-87.8\n",
    "- \n",
    "/ \n",
    "+\t\n",
    "6 "
   ]
  },
  {
   "cell_type": "markdown",
   "id": "ff85cdc1",
   "metadata": {},
   "source": [
    "Ans: Values:  'hello', -87.8 and 6.<br>\n",
    "         expressions: *, - , / and +"
   ]
  },
  {
   "cell_type": "raw",
   "id": "bb978c54",
   "metadata": {},
   "source": []
  },
  {
   "cell_type": "markdown",
   "id": "2a0d7885",
   "metadata": {},
   "source": [
    "2. What is the difference between string and variable"
   ]
  },
  {
   "cell_type": "markdown",
   "id": "3f1cc47a",
   "metadata": {},
   "source": [
    "Ans: String: String set type of data type in python, any value contain with in ‘ ’ or “ ” or “”” ””” for example; “Roshan” or ‘Singh’<br>\n",
    "Variable: They are just a level, in which we assign any value, like String, Integer, Float etc.\n",
    "For example; Name=”Roshan” and age= 27,In the example Name and Age are variables.\n"
   ]
  },
  {
   "cell_type": "raw",
   "id": "27e73613",
   "metadata": {},
   "source": []
  },
  {
   "cell_type": "markdown",
   "id": "29b2b47a",
   "metadata": {},
   "source": [
    "3. Describe three different data types.\n"
   ]
  },
  {
   "cell_type": "markdown",
   "id": "f9c90f9e",
   "metadata": {},
   "source": [
    "Ans: Integer: Data type which store mathematical value (only non-decimal ); like 1,2,3,4,5 <br>\n",
    "Float: Data type which store mathematical value ( only decimal ); like 1.2, 2.0, 3.5, 4.1, 5.8 <br>\n",
    "String: String set type of data type in python, any value contain with in ‘ ’ or “ ” or “”” ””” for example; “Roshan” or        ‘Singh’"
   ]
  },
  {
   "cell_type": "code",
   "execution_count": null,
   "id": "28ff8b3d",
   "metadata": {},
   "outputs": [],
   "source": []
  },
  {
   "cell_type": "markdown",
   "id": "a7e2c8c3",
   "metadata": {},
   "source": [
    "4. What is an expression made up of? What do all expressions do?"
   ]
  },
  {
   "cell_type": "markdown",
   "id": "34592340",
   "metadata": {},
   "source": [
    "Ans: An expression is a combination of values, variables, operators, and calls to functions. Expressions need to be evaluated.\n",
    "Expressions are combination of operator, which perform different action like addition, Multiplication, Remainder etc."
   ]
  },
  {
   "cell_type": "code",
   "execution_count": null,
   "id": "8253e5d4",
   "metadata": {},
   "outputs": [],
   "source": []
  },
  {
   "cell_type": "markdown",
   "id": "2dce7b1e",
   "metadata": {},
   "source": [
    "5. This assignment statements, like spam = 10. What is the difference between an expression and a statement?"
   ]
  },
  {
   "cell_type": "markdown",
   "id": "d6c0a303",
   "metadata": {},
   "source": [
    "Ans: expression return some value, according the operator or expression we perform like spam=10; In which 10 is assign to variable spam.<br> Statement is like python command like, print, or conditions or loops."
   ]
  },
  {
   "cell_type": "raw",
   "id": "7d454beb",
   "metadata": {},
   "source": []
  },
  {
   "cell_type": "markdown",
   "id": "649d99f1",
   "metadata": {},
   "source": [
    "6. After running the following code, what does the variable bacon contain?<br>\n",
    "bacon = 22<br>\n",
    "bacon + 1 "
   ]
  },
  {
   "cell_type": "code",
   "execution_count": 4,
   "id": "b7b3474c",
   "metadata": {},
   "outputs": [
    {
     "data": {
      "text/plain": [
       "23"
      ]
     },
     "execution_count": 4,
     "metadata": {},
     "output_type": "execute_result"
    }
   ],
   "source": [
    "bacon = 22\n",
    "bacon + 1"
   ]
  },
  {
   "cell_type": "markdown",
   "id": "1f4a902f",
   "metadata": {},
   "source": [
    "7. What should the values of the following two terms be?<br>\n",
    "'spam' + 'spamspam'<br>\n",
    "'spam' * 3"
   ]
  },
  {
   "cell_type": "code",
   "execution_count": 5,
   "id": "c16a6464",
   "metadata": {},
   "outputs": [
    {
     "data": {
      "text/plain": [
       "'spamspamspam'"
      ]
     },
     "execution_count": 5,
     "metadata": {},
     "output_type": "execute_result"
    }
   ],
   "source": [
    "'spam' + 'spamspam'"
   ]
  },
  {
   "cell_type": "code",
   "execution_count": 6,
   "id": "e1204827",
   "metadata": {},
   "outputs": [
    {
     "data": {
      "text/plain": [
       "'spamspamspam'"
      ]
     },
     "execution_count": 6,
     "metadata": {},
     "output_type": "execute_result"
    }
   ],
   "source": [
    "'spam' * 3"
   ]
  },
  {
   "cell_type": "code",
   "execution_count": null,
   "id": "383884e9",
   "metadata": {},
   "outputs": [],
   "source": []
  },
  {
   "cell_type": "markdown",
   "id": "08e042c3",
   "metadata": {},
   "source": [
    "8. Why is eggs a valid variable name while 100 is invalid?"
   ]
  },
  {
   "cell_type": "markdown",
   "id": "837e7b6d",
   "metadata": {},
   "source": [
    "Ans: According the assignment rule variable name can’t start with Integer."
   ]
  },
  {
   "cell_type": "code",
   "execution_count": null,
   "id": "fa8f5aae",
   "metadata": {},
   "outputs": [],
   "source": []
  },
  {
   "cell_type": "markdown",
   "id": "c0569f2b",
   "metadata": {},
   "source": [
    "9. What three functions can be used to get the integer, floating-point number, or string version of a value?"
   ]
  },
  {
   "cell_type": "markdown",
   "id": "a40bf878",
   "metadata": {},
   "source": [
    "Ans: int() , float() , and str( ) functions will get you respective value."
   ]
  },
  {
   "cell_type": "code",
   "execution_count": null,
   "id": "f1887a03",
   "metadata": {},
   "outputs": [],
   "source": []
  },
  {
   "cell_type": "markdown",
   "id": "b8841688",
   "metadata": {},
   "source": [
    "10. Why does this expression cause an error? How can you fix it?\n",
    "'I have eaten ' + 99 + ' burritos.'"
   ]
  },
  {
   "cell_type": "markdown",
   "id": "74e44679",
   "metadata": {},
   "source": [
    "Ans: Int and string  perform + expression in different way, for integer it’s addition and for string concatenation, So it’s not possible get any output here."
   ]
  },
  {
   "cell_type": "code",
   "execution_count": null,
   "id": "0ac2c028",
   "metadata": {},
   "outputs": [],
   "source": []
  }
 ],
 "metadata": {
  "kernelspec": {
   "display_name": "Python 3 (ipykernel)",
   "language": "python",
   "name": "python3"
  },
  "language_info": {
   "codemirror_mode": {
    "name": "ipython",
    "version": 3
   },
   "file_extension": ".py",
   "mimetype": "text/x-python",
   "name": "python",
   "nbconvert_exporter": "python",
   "pygments_lexer": "ipython3",
   "version": "3.9.7"
  }
 },
 "nbformat": 4,
 "nbformat_minor": 5
}
