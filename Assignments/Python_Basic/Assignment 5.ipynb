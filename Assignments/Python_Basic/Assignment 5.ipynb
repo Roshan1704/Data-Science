{
 "cells": [
  {
   "cell_type": "markdown",
   "id": "437e11d0",
   "metadata": {},
   "source": [
    "1. What does an empty dictionary's code look like?"
   ]
  },
  {
   "cell_type": "markdown",
   "id": "a984eb30",
   "metadata": {},
   "source": [
    "Ans: empty dictionary look like <b>d = { }"
   ]
  },
  {
   "cell_type": "code",
   "execution_count": null,
   "id": "82799420",
   "metadata": {},
   "outputs": [],
   "source": []
  },
  {
   "cell_type": "markdown",
   "id": "9d61a497",
   "metadata": {},
   "source": [
    "2. What is the value of a dictionary value with the key 'foo' and the value 42?"
   ]
  },
  {
   "cell_type": "markdown",
   "id": "d393c860",
   "metadata": {},
   "source": [
    "Ans: d= {'foo':42}"
   ]
  },
  {
   "cell_type": "code",
   "execution_count": null,
   "id": "0dee81df",
   "metadata": {},
   "outputs": [],
   "source": []
  },
  {
   "cell_type": "markdown",
   "id": "545d7dcf",
   "metadata": {},
   "source": [
    "3. What is the most significant distinction between a dictionary and a list?"
   ]
  },
  {
   "cell_type": "markdown",
   "id": "6a48b489",
   "metadata": {},
   "source": [
    "Ans: Most significate distinction is dictinory stored beween { }  in key-value pair."
   ]
  },
  {
   "cell_type": "code",
   "execution_count": null,
   "id": "a61491a1",
   "metadata": {},
   "outputs": [],
   "source": []
  },
  {
   "cell_type": "markdown",
   "id": "9be1946b",
   "metadata": {},
   "source": [
    "4. What happens if you try to access spam['foo'] if spam is {'bar': 100}?"
   ]
  },
  {
   "cell_type": "markdown",
   "id": "5eba36d7",
   "metadata": {},
   "source": [
    "Ans: It will give you <b>keyError</b>, as there is no key named 'foo'."
   ]
  },
  {
   "cell_type": "code",
   "execution_count": null,
   "id": "ae9bdaa9",
   "metadata": {},
   "outputs": [],
   "source": []
  },
  {
   "cell_type": "code",
   "execution_count": 34,
   "id": "cca0a0bc",
   "metadata": {},
   "outputs": [],
   "source": [
    "// Dummy Dictinory\n",
    "spam={'key1':'cat','cat':'adam',5:True}"
   ]
  },
  {
   "cell_type": "markdown",
   "id": "1f22467d",
   "metadata": {},
   "source": []
  },
  {
   "cell_type": "markdown",
   "id": "252a4b4d",
   "metadata": {},
   "source": [
    "5. If a dictionary is stored in spam, what is the difference between the expressions 'cat' in spam and 'cat' in spam.keys()?\n"
   ]
  },
  {
   "cell_type": "markdown",
   "id": "1bcf974b",
   "metadata": {},
   "source": [
    "Ans: In both case it will check for the 'cat' as key in the dictinory."
   ]
  },
  {
   "cell_type": "markdown",
   "id": "5cb570ab",
   "metadata": {},
   "source": []
  },
  {
   "cell_type": "markdown",
   "id": "cded038a",
   "metadata": {},
   "source": [
    " 6. If a dictionary is stored in spam, what is the difference between the expressions 'cat' in spam and 'cat' in spam.values()?"
   ]
  },
  {
   "cell_type": "markdown",
   "id": "21864605",
   "metadata": {},
   "source": [
    "Ans: in case of cat in spam, it will check for if there is key name 'cat' in the dictinory, but on the other side in spam.values(), it will check for 'cat' in value, it's persent or not."
   ]
  },
  {
   "cell_type": "code",
   "execution_count": null,
   "id": "01004876",
   "metadata": {},
   "outputs": [],
   "source": []
  },
  {
   "cell_type": "markdown",
   "id": "2d081f36",
   "metadata": {},
   "source": [
    "7. What is a shortcut for the following code?<br>\n",
    "if 'color' not in spam: <br>\n",
    "spam['color'] = 'black' <br>"
   ]
  },
  {
   "cell_type": "markdown",
   "id": "f26414b1",
   "metadata": {},
   "source": [
    "Ans: span.setdefault('color', 'black')"
   ]
  },
  {
   "cell_type": "code",
   "execution_count": null,
   "id": "4c24d516",
   "metadata": {},
   "outputs": [],
   "source": []
  },
  {
   "cell_type": "markdown",
   "id": "882c352d",
   "metadata": {},
   "source": [
    "8. How do you \"pretty print\" dictionary values using which module and function?"
   ]
  },
  {
   "cell_type": "markdown",
   "id": "d801cabd",
   "metadata": {},
   "source": [
    "Ans: pprint.pprint()"
   ]
  },
  {
   "cell_type": "code",
   "execution_count": null,
   "id": "e26d8787",
   "metadata": {},
   "outputs": [],
   "source": []
  }
 ],
 "metadata": {
  "kernelspec": {
   "display_name": "Python 3 (ipykernel)",
   "language": "python",
   "name": "python3"
  },
  "language_info": {
   "codemirror_mode": {
    "name": "ipython",
    "version": 3
   },
   "file_extension": ".py",
   "mimetype": "text/x-python",
   "name": "python",
   "nbconvert_exporter": "python",
   "pygments_lexer": "ipython3",
   "version": "3.9.7"
  }
 },
 "nbformat": 4,
 "nbformat_minor": 5
}
