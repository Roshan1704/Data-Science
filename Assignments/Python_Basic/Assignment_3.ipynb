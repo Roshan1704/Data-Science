{
 "cells": [
  {
   "cell_type": "markdown",
   "id": "605b69c4",
   "metadata": {},
   "source": [
    "1. Why are functions advantageous to have in your programs?"
   ]
  },
  {
   "cell_type": "markdown",
   "id": "4680b460",
   "metadata": {},
   "source": [
    "Ans: Function reduce the use of repeative code, we just need to write code with in one function and just call that funtion whenever we need that code."
   ]
  },
  {
   "cell_type": "code",
   "execution_count": null,
   "id": "1f8edb3d",
   "metadata": {},
   "outputs": [],
   "source": []
  },
  {
   "cell_type": "markdown",
   "id": "95897bce",
   "metadata": {},
   "source": [
    "2. When does the code in a function run: when it's specified or when it's called?"
   ]
  },
  {
   "cell_type": "markdown",
   "id": "7881dac1",
   "metadata": {},
   "source": [
    "Ans: Code in any fuction run or execute only when it called, otherwise that code will never run."
   ]
  },
  {
   "cell_type": "code",
   "execution_count": null,
   "id": "4779529f",
   "metadata": {},
   "outputs": [],
   "source": []
  },
  {
   "cell_type": "markdown",
   "id": "0d64595d",
   "metadata": {},
   "source": [
    "3. What statement creates a function?"
   ]
  },
  {
   "cell_type": "markdown",
   "id": "8677c187",
   "metadata": {},
   "source": [
    "Ans: In python we create a funtion by \"def {funtion_name}():\""
   ]
  },
  {
   "cell_type": "code",
   "execution_count": null,
   "id": "16723304",
   "metadata": {},
   "outputs": [],
   "source": []
  },
  {
   "cell_type": "markdown",
   "id": "af7a3fd1",
   "metadata": {},
   "source": [
    "4. What is the difference between a function and a function call?"
   ]
  },
  {
   "cell_type": "markdown",
   "id": "37782f1c",
   "metadata": {},
   "source": [
    "Ans: Function is the line of instruction to complete perticuler task and function call, call the fuction and execute those instruction and complete the task."
   ]
  },
  {
   "cell_type": "code",
   "execution_count": null,
   "id": "77923ad1",
   "metadata": {},
   "outputs": [],
   "source": []
  },
  {
   "cell_type": "markdown",
   "id": "5286408d",
   "metadata": {},
   "source": [
    "5. How many global scopes are there in a Python program? How many local scopes?"
   ]
  },
  {
   "cell_type": "markdown",
   "id": "297f0421",
   "metadata": {},
   "source": [
    "Ans: There is one globle scope, which remain until program got terminated on the other side there can be N number of local scope."
   ]
  },
  {
   "cell_type": "code",
   "execution_count": null,
   "id": "63b19947",
   "metadata": {},
   "outputs": [],
   "source": []
  },
  {
   "cell_type": "markdown",
   "id": "c48821f3",
   "metadata": {},
   "source": [
    "6. What happens to variables in a local scope when the function call returns?"
   ]
  },
  {
   "cell_type": "markdown",
   "id": "497c6c02",
   "metadata": {},
   "source": [
    "Ans: In that case, veribale got distroyed as there task is completed."
   ]
  },
  {
   "cell_type": "markdown",
   "id": "fea2f855",
   "metadata": {},
   "source": []
  },
  {
   "cell_type": "markdown",
   "id": "f0f5519d",
   "metadata": {},
   "source": [
    "7. What is the concept of a return value? Is it possible to have a return value in an expression?"
   ]
  },
  {
   "cell_type": "markdown",
   "id": "a018d2b0",
   "metadata": {},
   "source": [
    "Ans: It's concept of returing the asked value to calling fuction delivered by the receiver function ( who got called for that value ). Yes it's possible like return_42() returns a numeric value, Which can be use mathamatical operations and other similer tasks."
   ]
  },
  {
   "cell_type": "code",
   "execution_count": null,
   "id": "3276ce0e",
   "metadata": {},
   "outputs": [],
   "source": []
  },
  {
   "cell_type": "markdown",
   "id": "22c3d141",
   "metadata": {},
   "source": [
    "8. If a function does not have a return statement, what is the return value of a call to that function?"
   ]
  },
  {
   "cell_type": "markdown",
   "id": "4821b31b",
   "metadata": {},
   "source": [
    "Ans: It returns None"
   ]
  },
  {
   "cell_type": "code",
   "execution_count": null,
   "id": "7e1fa512",
   "metadata": {},
   "outputs": [],
   "source": []
  },
  {
   "cell_type": "markdown",
   "id": "5fbc0894",
   "metadata": {},
   "source": [
    "9. How do you make a function variable refer to the global variable?"
   ]
  },
  {
   "cell_type": "markdown",
   "id": "5fa5b884",
   "metadata": {},
   "source": [
    "Ans: Need to use <b>global</b> keyword before variable for this task"
   ]
  },
  {
   "cell_type": "code",
   "execution_count": null,
   "id": "7870d90f",
   "metadata": {},
   "outputs": [],
   "source": []
  },
  {
   "cell_type": "markdown",
   "id": "dab04720",
   "metadata": {},
   "source": [
    "10. What is the data type of None?"
   ]
  },
  {
   "cell_type": "markdown",
   "id": "c640fbbe",
   "metadata": {},
   "source": [
    "Ans: class NoneType object"
   ]
  },
  {
   "cell_type": "code",
   "execution_count": null,
   "id": "6ec81cba",
   "metadata": {},
   "outputs": [],
   "source": []
  },
  {
   "cell_type": "markdown",
   "id": "3a1970fc",
   "metadata": {},
   "source": [
    "11. What does the sentence import areallyourpetsnamederic do?"
   ]
  },
  {
   "cell_type": "markdown",
   "id": "d9a5ea7a",
   "metadata": {},
   "source": [
    "Ans: That import statement imports a module named areallyourpetsnamederic."
   ]
  },
  {
   "cell_type": "code",
   "execution_count": null,
   "id": "d77f0736",
   "metadata": {},
   "outputs": [],
   "source": []
  },
  {
   "cell_type": "markdown",
   "id": "9f721e3b",
   "metadata": {},
   "source": [
    "12. If you had a bacon() feature in a spam module, what would you call it after importing spam?"
   ]
  },
  {
   "cell_type": "markdown",
   "id": "c2482430",
   "metadata": {},
   "source": [
    "Ans: It will call by <b>spam.bacon()"
   ]
  },
  {
   "cell_type": "code",
   "execution_count": null,
   "id": "1166bcd4",
   "metadata": {},
   "outputs": [],
   "source": []
  },
  {
   "cell_type": "markdown",
   "id": "4df74a5e",
   "metadata": {},
   "source": [
    "13. What can you do to save a programme from crashing if it encounters an error?"
   ]
  },
  {
   "cell_type": "markdown",
   "id": "d9f1bdf9",
   "metadata": {},
   "source": [
    "Ans: For Prevention that we use concept of error handeling."
   ]
  },
  {
   "cell_type": "code",
   "execution_count": null,
   "id": "285958fd",
   "metadata": {},
   "outputs": [],
   "source": []
  },
  {
   "cell_type": "markdown",
   "id": "78fa5f67",
   "metadata": {},
   "source": [
    "14. What is the purpose of the try clause? What is the purpose of the except clause?"
   ]
  },
  {
   "cell_type": "markdown",
   "id": "1e6026ef",
   "metadata": {},
   "source": [
    "Ans: In try Clause we write a code which may give some exception, if that happend, code in except clause comes in use, as soon as program crash due to error/exception in try clause code, rather then crashing just except clause code got execute and program move ahead, in that case after complete execution it's won't stop other task of the code to execute."
   ]
  }
 ],
 "metadata": {
  "kernelspec": {
   "display_name": "Python 3 (ipykernel)",
   "language": "python",
   "name": "python3"
  },
  "language_info": {
   "codemirror_mode": {
    "name": "ipython",
    "version": 3
   },
   "file_extension": ".py",
   "mimetype": "text/x-python",
   "name": "python",
   "nbconvert_exporter": "python",
   "pygments_lexer": "ipython3",
   "version": "3.9.7"
  }
 },
 "nbformat": 4,
 "nbformat_minor": 5
}
