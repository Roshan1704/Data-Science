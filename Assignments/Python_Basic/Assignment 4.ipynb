{
 "cells": [
  {
   "cell_type": "markdown",
   "id": "d25f1464",
   "metadata": {},
   "source": [
    "1. What exactly is []?"
   ]
  },
  {
   "cell_type": "markdown",
   "id": "1def3d48",
   "metadata": {},
   "source": [
    "Ans: Square bracket '[]' used to contain the elements of list. eg, ls=[] or ls=[5,'roshan',True,6.8,5+6j]"
   ]
  },
  {
   "cell_type": "code",
   "execution_count": null,
   "id": "a5f6ff49",
   "metadata": {},
   "outputs": [],
   "source": []
  },
  {
   "cell_type": "markdown",
   "id": "26173e1d",
   "metadata": {},
   "source": [
    "2. In a list of values stored in a variable called spam, how would you assign the value 'hello' as the third value? (Assume [2, 4, 6, 8, 10] are in spam.)<br>Let's pretend the spam includes the list ['a', 'b', 'c', 'd'] for the next three queries.\n"
   ]
  },
  {
   "cell_type": "markdown",
   "id": "1782499b",
   "metadata": {},
   "source": [
    "Ans: <br>\n",
    "spam= [2, 4, 6, 8, 10]<br>\n",
    "spam.insert(2,'hello')"
   ]
  },
  {
   "cell_type": "markdown",
   "id": "b914d834",
   "metadata": {},
   "source": []
  },
  {
   "cell_type": "markdown",
   "id": "56a71fdd",
   "metadata": {},
   "source": [
    "<h4>Spam = [ 'a', 'b', 'c', 'd' ] // For questions 3-5"
   ]
  },
  {
   "cell_type": "markdown",
   "id": "e76b867e",
   "metadata": {},
   "source": [
    "3. What is the value of spam[int(int('3' * 2) / 11)]?"
   ]
  },
  {
   "cell_type": "markdown",
   "id": "775120aa",
   "metadata": {},
   "source": [
    "Ans: 'c'"
   ]
  },
  {
   "cell_type": "code",
   "execution_count": null,
   "id": "217f3ded",
   "metadata": {},
   "outputs": [],
   "source": []
  },
  {
   "cell_type": "markdown",
   "id": "f8190483",
   "metadata": {},
   "source": [
    "4. What is the value of spam[-1]?"
   ]
  },
  {
   "cell_type": "markdown",
   "id": "d4e0479b",
   "metadata": {},
   "source": [
    "Ans: 'd'"
   ]
  },
  {
   "cell_type": "markdown",
   "id": "2fff90e6",
   "metadata": {},
   "source": []
  },
  {
   "cell_type": "markdown",
   "id": "a2da0f97",
   "metadata": {},
   "source": [
    "5. What is the value of spam[:2]?"
   ]
  },
  {
   "cell_type": "markdown",
   "id": "a1a2dbc0",
   "metadata": {},
   "source": [
    "Ans: ['a','b']"
   ]
  },
  {
   "cell_type": "code",
   "execution_count": null,
   "id": "d08d8cb7",
   "metadata": {},
   "outputs": [],
   "source": []
  },
  {
   "cell_type": "markdown",
   "id": "b2c9bad5",
   "metadata": {},
   "source": [
    "<h4> bacon = [ 3.14, 'cat', 11, 'cat', True ] // For Questions 6-8"
   ]
  },
  {
   "cell_type": "markdown",
   "id": "d254b0bf",
   "metadata": {},
   "source": [
    "6. What is the value of bacon.index('cat')?"
   ]
  },
  {
   "cell_type": "markdown",
   "id": "448569d2",
   "metadata": {},
   "source": [
    "Ans: index(), search and give the index number of the element. So in this case it will gives <b>1."
   ]
  },
  {
   "cell_type": "code",
   "execution_count": null,
   "id": "c37e2517",
   "metadata": {},
   "outputs": [],
   "source": []
  },
  {
   "cell_type": "markdown",
   "id": "31b175d4",
   "metadata": {},
   "source": [
    "7. How does bacon.append(99) change the look of the list value in bacon?"
   ]
  },
  {
   "cell_type": "markdown",
   "id": "3c7da281",
   "metadata": {},
   "source": [
    "Ans: Add one more element at the end of list, in this case will add <b>99."
   ]
  },
  {
   "cell_type": "code",
   "execution_count": null,
   "id": "ff9f6712",
   "metadata": {},
   "outputs": [],
   "source": []
  },
  {
   "cell_type": "markdown",
   "id": "6789ad4e",
   "metadata": {},
   "source": [
    "8. How does bacon.remove('cat') change the look of the list in bacon?"
   ]
  },
  {
   "cell_type": "markdown",
   "id": "cce11bf1",
   "metadata": {},
   "source": [
    "Ans: Will Delete the very first element which contains 'cat'. <br>So list will look like<br>bacon = [ 3.14, 11, 'cat', True ]"
   ]
  },
  {
   "cell_type": "code",
   "execution_count": null,
   "id": "f2245224",
   "metadata": {},
   "outputs": [],
   "source": []
  },
  {
   "cell_type": "markdown",
   "id": "0a29e749",
   "metadata": {},
   "source": [
    "9. What are the list concatenation and list replication operators?"
   ]
  },
  {
   "cell_type": "markdown",
   "id": "c552483b",
   "metadata": {},
   "source": [
    "Ans: concatenation is merge two list for that we use '+' operator and replication is genrate list n number of time by operator '*'."
   ]
  },
  {
   "cell_type": "code",
   "execution_count": null,
   "id": "4660ca9d",
   "metadata": {},
   "outputs": [],
   "source": []
  },
  {
   "cell_type": "markdown",
   "id": "507ce6f2",
   "metadata": {},
   "source": [
    "10.  is difference between the list methods append() and insert()?"
   ]
  },
  {
   "cell_type": "markdown",
   "id": "88ee4939",
   "metadata": {},
   "source": [
    "Ans: Appand add new element at the list of the list always on the other hand, insert add element at perticuler location."
   ]
  },
  {
   "cell_type": "code",
   "execution_count": null,
   "id": "6bcd25bf",
   "metadata": {},
   "outputs": [],
   "source": []
  },
  {
   "cell_type": "markdown",
   "id": "5cb4bc6c",
   "metadata": {},
   "source": [
    "11. What are the two methods for removing items from a list?"
   ]
  },
  {
   "cell_type": "markdown",
   "id": "6ea7eded",
   "metadata": {},
   "source": [
    "Ans: Pop() and remove()<br>\n",
    "    pop() remove element on the basis of index on the other side remove(), delete very first matching element, which user pass with in the peramenters"
   ]
  },
  {
   "cell_type": "code",
   "execution_count": null,
   "id": "2ec7877c",
   "metadata": {},
   "outputs": [],
   "source": []
  },
  {
   "cell_type": "code",
   "execution_count": null,
   "id": "2f2692a7",
   "metadata": {},
   "outputs": [],
   "source": []
  },
  {
   "cell_type": "raw",
   "id": "27189936",
   "metadata": {},
   "source": [
    "12. Describe how list values and string values are identical."
   ]
  },
  {
   "cell_type": "markdown",
   "id": "1201e485",
   "metadata": {},
   "source": [
    "Ans: 1. Both are the collection of characters.<br>\n",
    "     2. Both works on concepts like indexing and slicing"
   ]
  },
  {
   "cell_type": "code",
   "execution_count": null,
   "id": "3af5ffd7",
   "metadata": {},
   "outputs": [],
   "source": []
  },
  {
   "cell_type": "markdown",
   "id": "1a40cac6",
   "metadata": {},
   "source": [
    "13. What's the difference between tuples and lists?"
   ]
  },
  {
   "cell_type": "markdown",
   "id": "419e31ea",
   "metadata": {},
   "source": [
    "Ans: 1. list contains with in '[ ]' on the other side tuple contains in '( )'<br>\n",
    "     2. list is mutable and tuples are immutable."
   ]
  },
  {
   "cell_type": "code",
   "execution_count": null,
   "id": "635eb994",
   "metadata": {},
   "outputs": [],
   "source": []
  },
  {
   "cell_type": "markdown",
   "id": "0e34c98f",
   "metadata": {},
   "source": [
    "14. How do you type a tuple value that only contains the integer 42?"
   ]
  },
  {
   "cell_type": "markdown",
   "id": "fd52299e",
   "metadata": {},
   "source": [
    "Ans: (42,)"
   ]
  },
  {
   "cell_type": "code",
   "execution_count": null,
   "id": "7b4f072c",
   "metadata": {},
   "outputs": [],
   "source": []
  },
  {
   "cell_type": "markdown",
   "id": "5160807a",
   "metadata": {},
   "source": [
    "15. How do you get a list value's tuple form? How do you get a tuple value's list form?"
   ]
  },
  {
   "cell_type": "markdown",
   "id": "10827cb8",
   "metadata": {},
   "source": [
    "Ans: for list value's tuple form we use iter() and to get a tuple value's list form we use zip()"
   ]
  },
  {
   "cell_type": "code",
   "execution_count": null,
   "id": "18a7d3c2",
   "metadata": {},
   "outputs": [],
   "source": []
  },
  {
   "cell_type": "markdown",
   "id": "eb014c37",
   "metadata": {},
   "source": [
    "16. Variables that \"contain\" list values are not necessarily lists themselves. Instead, what do they contain?"
   ]
  },
  {
   "cell_type": "markdown",
   "id": "30a3eedc",
   "metadata": {},
   "source": [
    "Ans: it can be tuple which contains list as element<br>\n",
    "eg: ls=(5,[8,'adam',true],5+6j)"
   ]
  },
  {
   "cell_type": "code",
   "execution_count": null,
   "id": "a4b11e83",
   "metadata": {},
   "outputs": [],
   "source": []
  },
  {
   "cell_type": "markdown",
   "id": "5481a673",
   "metadata": {},
   "source": [
    "17. How do you distinguish between copy.copy() and copy.deepcopy()?"
   ]
  },
  {
   "cell_type": "markdown",
   "id": "9242d9da",
   "metadata": {},
   "source": [
    "copy.copy() or shallow copy pass the referance on the other side copy.deepcopy() or deep copy passes the copy of actual element."
   ]
  },
  {
   "cell_type": "code",
   "execution_count": null,
   "id": "e7e42505",
   "metadata": {},
   "outputs": [],
   "source": []
  }
 ],
 "metadata": {
  "kernelspec": {
   "display_name": "Python 3 (ipykernel)",
   "language": "python",
   "name": "python3"
  },
  "language_info": {
   "codemirror_mode": {
    "name": "ipython",
    "version": 3
   },
   "file_extension": ".py",
   "mimetype": "text/x-python",
   "name": "python",
   "nbconvert_exporter": "python",
   "pygments_lexer": "ipython3",
   "version": "3.9.7"
  }
 },
 "nbformat": 4,
 "nbformat_minor": 5
}
