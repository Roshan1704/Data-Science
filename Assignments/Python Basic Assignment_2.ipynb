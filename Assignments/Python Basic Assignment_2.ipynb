{
 "cells": [
  {
   "cell_type": "markdown",
   "id": "bb36df99",
   "metadata": {},
   "source": [
    "1.What are the two values of the Boolean data type? How do you write them?"
   ]
  },
  {
   "cell_type": "markdown",
   "id": "c62c8a4e",
   "metadata": {},
   "source": [
    " Ans: true and false"
   ]
  },
  {
   "cell_type": "code",
   "execution_count": null,
   "id": "b077b2d8",
   "metadata": {},
   "outputs": [],
   "source": []
  },
  {
   "cell_type": "markdown",
   "id": "2b1476ce",
   "metadata": {},
   "source": [
    "2. What are the three different types of Boolean operators?"
   ]
  },
  {
   "cell_type": "markdown",
   "id": "866e65f1",
   "metadata": {},
   "source": [
    "Ans: and,or and not"
   ]
  },
  {
   "cell_type": "code",
   "execution_count": null,
   "id": "481ac7ba",
   "metadata": {},
   "outputs": [],
   "source": []
  },
  {
   "cell_type": "markdown",
   "id": "2812e734",
   "metadata": {},
   "source": [
    "3. Make a list of each Boolean operator's truth tables (i.e. every possible combination of Boolean values for the operator and what it evaluate )."
   ]
  },
  {
   "cell_type": "markdown",
   "id": "c12ead3d",
   "metadata": {},
   "source": [
    "Ans: \n",
    "<style>\n",
    "    table,\n",
    "    th,\n",
    "    td {\n",
    "        border:solid black;\n",
    "    }\n",
    "    </style>\n",
    "<body>\n",
    "    <table style=\"text-align:left\">\n",
    "        <tr>\n",
    "            <th>Operator A</th>\n",
    "            <th>Operator B</th>\n",
    "            <th>Logical AND Result</th>\n",
    "        </tr>\n",
    "        <tr>\n",
    "            <td>True</td>\n",
    "            <td>True</td>\n",
    "            <td>True</td>\n",
    "        </tr>\n",
    "        <tr>\n",
    "            <td>True</td>\n",
    "            <td>False</td>\n",
    "            <td>False</td>\n",
    "        </tr>\n",
    "        <tr>\n",
    "            <td>False</td>\n",
    "            <td>True</td>\n",
    "            <td>False</td>\n",
    "        </tr>\n",
    "        <tr>\n",
    "            <td>False</td>\n",
    "            <td>False</td>\n",
    "            <td>False</td>\n",
    "        </tr>\n",
    "        \n",
    "        \n",
    "<style>\n",
    "    table,\n",
    "    th,\n",
    "    td {\n",
    "        border:solid black;\n",
    "    }\n",
    "    </style>\n",
    "<body>\n",
    "    <table style=\"text-align:left\">\n",
    "        <tr>\n",
    "            <th>Operator A</th>\n",
    "            <th>Operator B</th>\n",
    "            <th>Logical OR Result</th>\n",
    "        </tr>\n",
    "        <tr>\n",
    "            <td>True</td>\n",
    "            <td>True</td>\n",
    "            <td>True</td>\n",
    "        </tr>\n",
    "        <tr>\n",
    "            <td>True</td>\n",
    "            <td>False</td>\n",
    "            <td>True</td>\n",
    "        </tr>\n",
    "        <tr>\n",
    "            <td>False</td>\n",
    "            <td>True</td>\n",
    "            <td>True</td>\n",
    "        </tr>\n",
    "        <tr>\n",
    "            <td>False</td>\n",
    "            <td>False</td>\n",
    "            <td>False</td>\n",
    "        </tr>\n",
    "    \n",
    "<style>\n",
    "    table,\n",
    "    th,\n",
    "    td {\n",
    "        border:solid black;\n",
    "    }\n",
    "    </style>\n",
    "<body>\n",
    "    <table style=\"text-align:left\">\n",
    "        <tr>\n",
    "            <th>Operator A</th>\n",
    "            <th>Logical NOT Result</th>\n",
    "        </tr>\n",
    "        <tr>\n",
    "            <td>True</td>\n",
    "            <td>False</td>\n",
    "        </tr>\n",
    "        <tr>\n",
    "            <td>False</td>\n",
    "            <td>True</td>\n",
    "        </tr>"
   ]
  },
  {
   "cell_type": "raw",
   "id": "04d71049",
   "metadata": {},
   "source": []
  },
  {
   "cell_type": "markdown",
   "id": "b3807a46",
   "metadata": {},
   "source": [
    "4. What are the values of the following expressions?<br>\n",
    "a. (5 > 4) and (3 == 5)<br>\n",
    "b. not (5 > 4)<br>\n",
    "c. (5 > 4) or (3 == 5)<br>\n",
    "d. not ((5 > 4) or (3 == 5))<br>\n",
    "e. (True and True) and (True == False)<br>\n",
    "f. (not False) or (not True)<br>\n"
   ]
  },
  {
   "cell_type": "markdown",
   "id": "3a86163c",
   "metadata": {},
   "source": [
    "Ans:<br> \n",
    "a. false<br>\n",
    "b. false<br>\n",
    "c. true<br>\n",
    "d. false<br>\n",
    "e. false<br>\n",
    "f. true"
   ]
  },
  {
   "cell_type": "raw",
   "id": "73ecb8ea",
   "metadata": {},
   "source": []
  },
  {
   "cell_type": "markdown",
   "id": "18b0c69e",
   "metadata": {},
   "source": [
    "5. What are the six comparison operators?"
   ]
  },
  {
   "cell_type": "markdown",
   "id": "4b67b3a7",
   "metadata": {},
   "source": [
    "Ans:<br>\n",
    "1. Less than ( < )<br>\n",
    "2. Less than or equal to ( <= )<br>\n",
    "3. Greater than ( > )<br>\n",
    "4. Greater than or equal to ( >= )<br>\n",
    "5. Equal to ( == )<br>\n",
    "6. Not equal to ( != )"
   ]
  },
  {
   "cell_type": "raw",
   "id": "6a38578c",
   "metadata": {},
   "source": []
  },
  {
   "cell_type": "markdown",
   "id": "2e230740",
   "metadata": {},
   "source": [
    "6. How do you tell the difference between the equal to and assignment operators?Describe a condition and when you would use one."
   ]
  },
  {
   "cell_type": "markdown",
   "id": "7be1f3f4",
   "metadata": {},
   "source": [
    "Ans:<br>Equal operator (==) compare two value or variable and assignment operator (=) variable assign value to other variable<br>\n",
    "for example:<br> a==b; in this we comparing if a is equal to b;<br>\n",
    "a=b; in this we assigning value b in a."
   ]
  },
  {
   "cell_type": "code",
   "execution_count": null,
   "id": "64f5ef16",
   "metadata": {},
   "outputs": [],
   "source": []
  },
  {
   "cell_type": "markdown",
   "id": "4819f83d",
   "metadata": {},
   "source": [
    "7. Identify the three blocks in this code:<br>\n",
    "spam = 0<br>\n",
    "if spam == 10:<br>\n",
    "print('eggs')<br>\n",
    "if spam > 5:<br>\n",
    "print('bacon')<br>\n",
    "else:<br>\n",
    "print('ham')<br>\n",
    "print('spam')<br>\n",
    "print('spam')<br>"
   ]
  },
  {
   "cell_type": "code",
   "execution_count": null,
   "id": "d38a5368",
   "metadata": {},
   "outputs": [],
   "source": [
    "spam = 0\n",
    "if spam == 10:\n",
    "    print('eggs')\n",
    "if spam > 5:\n",
    "    print('bacon')\n",
    "else:\n",
    "    print('ham')\n",
    "    print('spam')\n",
    "    print('spam')"
   ]
  },
  {
   "cell_type": "code",
   "execution_count": null,
   "id": "152b6524",
   "metadata": {},
   "outputs": [],
   "source": []
  },
  {
   "cell_type": "markdown",
   "id": "58b115d7",
   "metadata": {},
   "source": [
    "8. Write code that prints Hello if 1 is stored in spam, prints Howdy if 2 is stored in spam, and prints Greetings! if anything else is stored in spam."
   ]
  },
  {
   "cell_type": "code",
   "execution_count": null,
   "id": "13594a41",
   "metadata": {},
   "outputs": [],
   "source": [
    "spam=input(\"Enter the value\")\n",
    "if spam==\"1\":\n",
    "    print(\"Hello\")\n",
    "elif spam==\"2\":\n",
    "    print(\"Howdy\")\n",
    "else:\n",
    "    print(\"spam\")"
   ]
  },
  {
   "cell_type": "code",
   "execution_count": null,
   "id": "8fb73fc0",
   "metadata": {},
   "outputs": [],
   "source": []
  },
  {
   "cell_type": "markdown",
   "id": "e079a5de",
   "metadata": {},
   "source": [
    "9.If your programme is stuck in an endless loop, what keys you’ll press?"
   ]
  },
  {
   "cell_type": "markdown",
   "id": "878534b6",
   "metadata": {},
   "source": [
    "Ans: CTRL + C"
   ]
  },
  {
   "cell_type": "code",
   "execution_count": null,
   "id": "9dbca0de",
   "metadata": {},
   "outputs": [],
   "source": []
  },
  {
   "cell_type": "markdown",
   "id": "c9f67f7b",
   "metadata": {},
   "source": [
    "10. How can you tell the difference between break and continue?"
   ]
  },
  {
   "cell_type": "markdown",
   "id": "38a54eb1",
   "metadata": {},
   "source": [
    "Ans:<br>\n",
    "Break:Terminate the loop, can execute next line outside the loop.<br>\n",
    "Continue:Just skip the certain iteration and execute next one."
   ]
  },
  {
   "cell_type": "code",
   "execution_count": null,
   "id": "791c849b",
   "metadata": {},
   "outputs": [],
   "source": []
  },
  {
   "cell_type": "markdown",
   "id": "4adf13b2",
   "metadata": {},
   "source": [
    "11. In a for loop, what is the difference between range(10), range(0, 10), and range(0, 10, 1)?"
   ]
  },
  {
   "cell_type": "markdown",
   "id": "fe074193",
   "metadata": {},
   "source": [
    "Ans:<br>\n",
    "range(10), range(0, 10): Both mean same thing, just in 1st case, compiler assume 10 is the end of the range and it assume starting point is 0.<br>\n",
    "In,range(0, 10, 1) in this case loop print every second value rather then printing every value."
   ]
  },
  {
   "cell_type": "code",
   "execution_count": null,
   "id": "e75d2499",
   "metadata": {},
   "outputs": [],
   "source": []
  },
  {
   "cell_type": "markdown",
   "id": "5887c41d",
   "metadata": {},
   "source": [
    "12. Write a short program that prints the numbers 1 to 10 using a for loop. Then write an equivalent program that prints the numbers 1 to 10 using a while loop."
   ]
  },
  {
   "cell_type": "code",
   "execution_count": 3,
   "id": "161a647a",
   "metadata": {},
   "outputs": [
    {
     "name": "stdout",
     "output_type": "stream",
     "text": [
      "1\n",
      "2\n",
      "3\n",
      "4\n",
      "5\n",
      "6\n",
      "7\n",
      "8\n",
      "9\n"
     ]
    }
   ],
   "source": [
    "for i in range(1,10):\n",
    "    print(i)"
   ]
  },
  {
   "cell_type": "code",
   "execution_count": 4,
   "id": "902a415e",
   "metadata": {},
   "outputs": [
    {
     "name": "stdout",
     "output_type": "stream",
     "text": [
      "1\n",
      "2\n",
      "3\n",
      "4\n",
      "5\n",
      "6\n",
      "7\n",
      "8\n",
      "9\n",
      "10\n"
     ]
    }
   ],
   "source": [
    "i=1\n",
    "while(i<11):\n",
    "    print(i)\n",
    "    i=i+1"
   ]
  },
  {
   "cell_type": "code",
   "execution_count": null,
   "id": "d03042dd",
   "metadata": {},
   "outputs": [],
   "source": []
  },
  {
   "cell_type": "markdown",
   "id": "704e27b6",
   "metadata": {},
   "source": [
    "13. If you had a function named bacon() inside a module named spam, how would you call it after importing spam?"
   ]
  },
  {
   "cell_type": "markdown",
   "id": "75f10688",
   "metadata": {},
   "source": [
    "Ans: <br> spam.bacon()"
   ]
  },
  {
   "cell_type": "code",
   "execution_count": null,
   "id": "d13f758f",
   "metadata": {},
   "outputs": [],
   "source": []
  }
 ],
 "metadata": {
  "kernelspec": {
   "display_name": "Python 3 (ipykernel)",
   "language": "python",
   "name": "python3"
  },
  "language_info": {
   "codemirror_mode": {
    "name": "ipython",
    "version": 3
   },
   "file_extension": ".py",
   "mimetype": "text/x-python",
   "name": "python",
   "nbconvert_exporter": "python",
   "pygments_lexer": "ipython3",
   "version": "3.9.7"
  }
 },
 "nbformat": 4,
 "nbformat_minor": 5
}
