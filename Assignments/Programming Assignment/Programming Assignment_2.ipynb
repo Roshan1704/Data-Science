{
 "cells": [
  {
   "cell_type": "markdown",
   "id": "a62cebbf",
   "metadata": {},
   "source": [
    "# Program 1:\n",
    "### Write a Python program to convert kilometers to miles?"
   ]
  },
  {
   "cell_type": "code",
   "execution_count": null,
   "id": "1ef03e7e",
   "metadata": {},
   "outputs": [],
   "source": []
  },
  {
   "cell_type": "code",
   "execution_count": 1,
   "id": "b32b3bb0",
   "metadata": {},
   "outputs": [
    {
     "name": "stdout",
     "output_type": "stream",
     "text": [
      "Km= 10\n",
      "10.0 Km have 6.25 miles\n"
     ]
    }
   ],
   "source": [
    "# 1 miles=1.6km\n",
    "km=float(input(\"Km= \"))\n",
    "print(km,\"Km have\",(km/1.6),\"miles\")"
   ]
  },
  {
   "cell_type": "code",
   "execution_count": null,
   "id": "4c7b1716",
   "metadata": {},
   "outputs": [],
   "source": []
  },
  {
   "cell_type": "markdown",
   "id": "10c3a063",
   "metadata": {},
   "source": [
    "# Program 2:\n",
    "### Write a Python program to convert Celsius to Fahrenheit?"
   ]
  },
  {
   "cell_type": "code",
   "execution_count": null,
   "id": "0fa6cca8",
   "metadata": {},
   "outputs": [],
   "source": []
  },
  {
   "cell_type": "code",
   "execution_count": 2,
   "id": "9088dc66",
   "metadata": {},
   "outputs": [
    {
     "name": "stdout",
     "output_type": "stream",
     "text": [
      "CL= 50\n",
      "50.0 °C have 122.0 °F\n"
     ]
    }
   ],
   "source": [
    "#(0°Cl × 9/5) + 32 = 32°F\n",
    "cl=float(input(\"CL= \"))\n",
    "print(cl,\"°C have\",((cl*9/5) + 32),\"°F\")"
   ]
  },
  {
   "cell_type": "code",
   "execution_count": null,
   "id": "005b7d90",
   "metadata": {},
   "outputs": [],
   "source": []
  },
  {
   "cell_type": "markdown",
   "id": "a63be558",
   "metadata": {},
   "source": [
    "# Program 3:\n",
    "### Write a Python program to display calendar?"
   ]
  },
  {
   "cell_type": "code",
   "execution_count": null,
   "id": "e05b7f1a",
   "metadata": {},
   "outputs": [],
   "source": []
  },
  {
   "cell_type": "code",
   "execution_count": 3,
   "id": "3694de10",
   "metadata": {},
   "outputs": [
    {
     "name": "stdout",
     "output_type": "stream",
     "text": [
      "Enter year: 2018\n",
      "Enter month: 6\n",
      "     June 2018\n",
      "Mo Tu We Th Fr Sa Su\n",
      "             1  2  3\n",
      " 4  5  6  7  8  9 10\n",
      "11 12 13 14 15 16 17\n",
      "18 19 20 21 22 23 24\n",
      "25 26 27 28 29 30\n",
      "\n"
     ]
    }
   ],
   "source": [
    "import calendar  \n",
    "yr = int(input(\"Enter year: \"))  \n",
    "mn= int(input(\"Enter month: \"))  \n",
    "  \n",
    "# display the calendar  \n",
    "print(calendar.month(yr,mn))  "
   ]
  },
  {
   "cell_type": "code",
   "execution_count": null,
   "id": "1ba5212c",
   "metadata": {},
   "outputs": [],
   "source": []
  },
  {
   "cell_type": "markdown",
   "id": "e80bb7ca",
   "metadata": {},
   "source": [
    "# Program 4:\n",
    "### Write a Python program to solve quadratic equation?"
   ]
  },
  {
   "cell_type": "code",
   "execution_count": null,
   "id": "2a98902d",
   "metadata": {},
   "outputs": [],
   "source": []
  },
  {
   "cell_type": "code",
   "execution_count": 4,
   "id": "bf6158e2",
   "metadata": {},
   "outputs": [
    {
     "name": "stdout",
     "output_type": "stream",
     "text": [
      "a=6\n",
      "b=8\n",
      "c=9\n",
      "Complex Roots\n",
      "-0.6666666666666666  + 12.328828005937952 j\n",
      "-0.6666666666666666  - 12.328828005937952 j\n"
     ]
    }
   ],
   "source": [
    "# quadratic equation= ax^2 + bx + c\n",
    "# quadratic equation's formula is= x = (−b ± √(b2 − 4ac))/2a\n",
    "import math\n",
    "\n",
    "a = int(input(\"a=\"))\n",
    "b = int(input(\"b=\"))\n",
    "c = int(input(\"c=\"))\n",
    "dis = b * b - 4 * a * c\n",
    "sqrt_val = math.sqrt(abs(dis))\n",
    "if dis > 0:\n",
    "    print(\" real and different roots \")\n",
    "    print((-b + sqrt_val) / (2 * a))\n",
    "    print((-b - sqrt_val) / (2 * a))\n",
    "\n",
    "elif dis == 0:\n",
    "    print(\" real and same roots\")\n",
    "    print(-b / (2 * a))\n",
    "\n",
    "else:\n",
    "    print(\"Complex Roots\")\n",
    "    print(- b / (2 * a), \" +\", sqrt_val,'j')\n",
    "    print(- b / (2 * a), \" -\", sqrt_val,'j')"
   ]
  },
  {
   "cell_type": "code",
   "execution_count": null,
   "id": "d4eed9f0",
   "metadata": {},
   "outputs": [],
   "source": []
  },
  {
   "cell_type": "markdown",
   "id": "1462272f",
   "metadata": {},
   "source": [
    "# Program 5:\n",
    "### Write a Python program to swap two variables without temp variable?\n"
   ]
  },
  {
   "cell_type": "code",
   "execution_count": null,
   "id": "41d3de0b",
   "metadata": {},
   "outputs": [],
   "source": []
  },
  {
   "cell_type": "code",
   "execution_count": 5,
   "id": "adce3f05",
   "metadata": {},
   "outputs": [
    {
     "name": "stdout",
     "output_type": "stream",
     "text": [
      "'A' and 'B' after Swap are 15 And 10 respectively\n"
     ]
    }
   ],
   "source": [
    "A=10\n",
    "B=15\n",
    "print(\"'A' and 'B' after Swap are\", end=\" \")\n",
    "A=A+B\n",
    "B=A-B\n",
    "A= A-B\n",
    "print(A,\"And\",B,\"respectively\")"
   ]
  },
  {
   "cell_type": "code",
   "execution_count": null,
   "id": "32014dcf",
   "metadata": {},
   "outputs": [],
   "source": []
  }
 ],
 "metadata": {
  "kernelspec": {
   "display_name": "Python 3 (ipykernel)",
   "language": "python",
   "name": "python3"
  },
  "language_info": {
   "codemirror_mode": {
    "name": "ipython",
    "version": 3
   },
   "file_extension": ".py",
   "mimetype": "text/x-python",
   "name": "python",
   "nbconvert_exporter": "python",
   "pygments_lexer": "ipython3",
   "version": "3.9.7"
  }
 },
 "nbformat": 4,
 "nbformat_minor": 5
}
