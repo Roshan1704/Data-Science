{
 "cells": [
  {
   "cell_type": "markdown",
   "id": "b48af2dc",
   "metadata": {},
   "source": [
    "# Program 1:\n",
    "## Write a Python program to print &quot;Hello Python&quot;?"
   ]
  },
  {
   "cell_type": "code",
   "execution_count": null,
   "id": "88121935",
   "metadata": {},
   "outputs": [],
   "source": []
  },
  {
   "cell_type": "code",
   "execution_count": 1,
   "id": "e91a3277",
   "metadata": {},
   "outputs": [
    {
     "name": "stdout",
     "output_type": "stream",
     "text": [
      "Hello Python\n"
     ]
    }
   ],
   "source": [
    "print(\"Hello Python\")"
   ]
  },
  {
   "cell_type": "code",
   "execution_count": null,
   "id": "cd714b92",
   "metadata": {},
   "outputs": [],
   "source": []
  },
  {
   "cell_type": "markdown",
   "id": "56500b05",
   "metadata": {},
   "source": [
    "# Program 2:\n",
    "## Write a Python program to do arithmetical operations addition and division.?"
   ]
  },
  {
   "cell_type": "code",
   "execution_count": null,
   "id": "49620356",
   "metadata": {},
   "outputs": [],
   "source": []
  },
  {
   "cell_type": "code",
   "execution_count": 6,
   "id": "ba7ce057",
   "metadata": {},
   "outputs": [
    {
     "name": "stdout",
     "output_type": "stream",
     "text": [
      "5+5= 10\n",
      "9-3= 6\n"
     ]
    }
   ],
   "source": [
    "print(\"5+5=\",5+5)\n",
    "print(\"9-3=\",9-3)"
   ]
  },
  {
   "cell_type": "code",
   "execution_count": null,
   "id": "32db5a84",
   "metadata": {},
   "outputs": [],
   "source": []
  },
  {
   "cell_type": "markdown",
   "id": "5a7025a5",
   "metadata": {},
   "source": [
    "# Program 3:\n",
    "## Write a Python program to find the area of a triangle?"
   ]
  },
  {
   "cell_type": "code",
   "execution_count": null,
   "id": "f71c1257",
   "metadata": {},
   "outputs": [],
   "source": []
  },
  {
   "cell_type": "code",
   "execution_count": 11,
   "id": "1e73f2e4",
   "metadata": {},
   "outputs": [
    {
     "name": "stdout",
     "output_type": "stream",
     "text": [
      "Area of triangle is = 12.0 m^2\n"
     ]
    }
   ],
   "source": [
    "base=6 # In Meters\n",
    "hight=4 # In Meters\n",
    "print(\"Area of triangle is =\",1/2*base*hight,\"m^2\")"
   ]
  },
  {
   "cell_type": "code",
   "execution_count": null,
   "id": "d219ea1f",
   "metadata": {},
   "outputs": [],
   "source": []
  },
  {
   "cell_type": "markdown",
   "id": "591b343f",
   "metadata": {},
   "source": [
    "# # Program 4:\n",
    "## Write a Python program to swap two variables?"
   ]
  },
  {
   "cell_type": "code",
   "execution_count": null,
   "id": "1327587c",
   "metadata": {},
   "outputs": [],
   "source": []
  },
  {
   "cell_type": "code",
   "execution_count": 14,
   "id": "9fd40db0",
   "metadata": {},
   "outputs": [
    {
     "name": "stdout",
     "output_type": "stream",
     "text": [
      "'A' and 'B' after Swap are 15 And 10 respectively\n"
     ]
    }
   ],
   "source": [
    "A=10\n",
    "B=15\n",
    "print(\"'A' and 'B' after Swap are\", end=\" \")\n",
    "A=A+B\n",
    "B=A-B\n",
    "A= A-B\n",
    "print(A,\"And\",B,\"respectively\")"
   ]
  },
  {
   "cell_type": "code",
   "execution_count": null,
   "id": "07b463bd",
   "metadata": {},
   "outputs": [],
   "source": []
  },
  {
   "cell_type": "markdown",
   "id": "22a632d3",
   "metadata": {},
   "source": [
    "# # Program 5:\n",
    "## Write a Python program to generate a random number?"
   ]
  },
  {
   "cell_type": "code",
   "execution_count": null,
   "id": "0d27f351",
   "metadata": {},
   "outputs": [],
   "source": []
  },
  {
   "cell_type": "code",
   "execution_count": 16,
   "id": "ef20fc83",
   "metadata": {},
   "outputs": [
    {
     "name": "stdout",
     "output_type": "stream",
     "text": [
      "3\n"
     ]
    }
   ],
   "source": [
    "print(random.randint(0,9))"
   ]
  },
  {
   "cell_type": "code",
   "execution_count": null,
   "id": "15c074e6",
   "metadata": {},
   "outputs": [],
   "source": []
  },
  {
   "cell_type": "code",
   "execution_count": null,
   "id": "84453e0e",
   "metadata": {},
   "outputs": [],
   "source": []
  },
  {
   "cell_type": "code",
   "execution_count": null,
   "id": "f509189f",
   "metadata": {},
   "outputs": [],
   "source": []
  }
 ],
 "metadata": {
  "kernelspec": {
   "display_name": "Python 3 (ipykernel)",
   "language": "python",
   "name": "python3"
  },
  "language_info": {
   "codemirror_mode": {
    "name": "ipython",
    "version": 3
   },
   "file_extension": ".py",
   "mimetype": "text/x-python",
   "name": "python",
   "nbconvert_exporter": "python",
   "pygments_lexer": "ipython3",
   "version": "3.9.7"
  }
 },
 "nbformat": 4,
 "nbformat_minor": 5
}
