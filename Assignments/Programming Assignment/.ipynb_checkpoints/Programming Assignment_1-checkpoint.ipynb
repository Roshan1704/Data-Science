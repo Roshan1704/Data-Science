{
 "cells": [
  {
   "cell_type": "markdown",
   "id": "cd5e2cb1",
   "metadata": {},
   "source": [
    "# Program 1:\n",
    "## Write a Python program to print &quot;Hello Python&quot;?"
   ]
  },
  {
   "cell_type": "code",
   "execution_count": null,
   "id": "fbb61596",
   "metadata": {},
   "outputs": [],
   "source": []
  },
  {
   "cell_type": "code",
   "execution_count": 1,
   "id": "d53ff463",
   "metadata": {},
   "outputs": [
    {
     "name": "stdout",
     "output_type": "stream",
     "text": [
      "Hello Python\n"
     ]
    }
   ],
   "source": [
    "print(\"Hello Python\")"
   ]
  },
  {
   "cell_type": "code",
   "execution_count": null,
   "id": "249fceac",
   "metadata": {},
   "outputs": [],
   "source": []
  },
  {
   "cell_type": "markdown",
   "id": "eb91affc",
   "metadata": {},
   "source": [
    "# Program 2:\n",
    "## Write a Python program to do arithmetical operations addition and division.?"
   ]
  },
  {
   "cell_type": "code",
   "execution_count": null,
   "id": "f037be29",
   "metadata": {},
   "outputs": [],
   "source": []
  },
  {
   "cell_type": "code",
   "execution_count": 6,
   "id": "afbce54f",
   "metadata": {},
   "outputs": [
    {
     "name": "stdout",
     "output_type": "stream",
     "text": [
      "5+5= 10\n",
      "9-3= 6\n"
     ]
    }
   ],
   "source": [
    "print(\"5+5=\",5+5)\n",
    "print(\"9-3=\",9-3)"
   ]
  },
  {
   "cell_type": "code",
   "execution_count": null,
   "id": "41fe35c2",
   "metadata": {},
   "outputs": [],
   "source": []
  },
  {
   "cell_type": "markdown",
   "id": "4e17ada7",
   "metadata": {},
   "source": [
    "# Program 3:\n",
    "## Write a Python program to find the area of a triangle?"
   ]
  },
  {
   "cell_type": "code",
   "execution_count": null,
   "id": "564c564f",
   "metadata": {},
   "outputs": [],
   "source": []
  },
  {
   "cell_type": "code",
   "execution_count": 11,
   "id": "adbfecd0",
   "metadata": {},
   "outputs": [
    {
     "name": "stdout",
     "output_type": "stream",
     "text": [
      "Area of triangle is = 12.0 m^2\n"
     ]
    }
   ],
   "source": [
    "base=6 # In Meters\n",
    "hight=4 # In Meters\n",
    "print(\"Area of triangle is =\",1/2*base*hight,\"m^2\")"
   ]
  },
  {
   "cell_type": "code",
   "execution_count": null,
   "id": "85b97233",
   "metadata": {},
   "outputs": [],
   "source": []
  },
  {
   "cell_type": "markdown",
   "id": "ac98b4f8",
   "metadata": {},
   "source": [
    "# # Program 4:\n",
    "## Write a Python program to swap two variables?"
   ]
  },
  {
   "cell_type": "code",
   "execution_count": null,
   "id": "1c11ea0d",
   "metadata": {},
   "outputs": [],
   "source": []
  },
  {
   "cell_type": "code",
   "execution_count": 14,
   "id": "6801fc25",
   "metadata": {},
   "outputs": [
    {
     "name": "stdout",
     "output_type": "stream",
     "text": [
      "'A' and 'B' after Swap are 15 And 10 respectively\n"
     ]
    }
   ],
   "source": [
    "A=10\n",
    "B=15\n",
    "print(\"'A' and 'B' after Swap are\", end=\" \")\n",
    "A=A+B\n",
    "B=A-B\n",
    "A= A-B\n",
    "print(A,\"And\",B,\"respectively\")"
   ]
  },
  {
   "cell_type": "code",
   "execution_count": null,
   "id": "c8713148",
   "metadata": {},
   "outputs": [],
   "source": []
  },
  {
   "cell_type": "markdown",
   "id": "432f7ca6",
   "metadata": {},
   "source": [
    "# # Program 5:\n",
    "## Write a Python program to generate a random number?"
   ]
  },
  {
   "cell_type": "code",
   "execution_count": null,
   "id": "41960eff",
   "metadata": {},
   "outputs": [],
   "source": []
  },
  {
   "cell_type": "code",
   "execution_count": 19,
   "id": "64773f95",
   "metadata": {},
   "outputs": [
    {
     "name": "stdout",
     "output_type": "stream",
     "text": [
      "18\n"
     ]
    }
   ],
   "source": [
    "print(random.randint(0,100))"
   ]
  },
  {
   "cell_type": "code",
   "execution_count": null,
   "id": "27c8a754",
   "metadata": {},
   "outputs": [],
   "source": []
  },
  {
   "cell_type": "code",
   "execution_count": null,
   "id": "1fe52a88",
   "metadata": {},
   "outputs": [],
   "source": []
  },
  {
   "cell_type": "code",
   "execution_count": null,
   "id": "e49edb2c",
   "metadata": {},
   "outputs": [],
   "source": []
  }
 ],
 "metadata": {
  "kernelspec": {
   "display_name": "Python 3 (ipykernel)",
   "language": "python",
   "name": "python3"
  },
  "language_info": {
   "codemirror_mode": {
    "name": "ipython",
    "version": 3
   },
   "file_extension": ".py",
   "mimetype": "text/x-python",
   "name": "python",
   "nbconvert_exporter": "python",
   "pygments_lexer": "ipython3",
   "version": "3.9.7"
  }
 },
 "nbformat": 4,
 "nbformat_minor": 5
}
